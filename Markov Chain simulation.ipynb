{
 "cells": [
  {
   "cell_type": "code",
   "execution_count": 2,
   "metadata": {},
   "outputs": [],
   "source": [
    "def simulate(mat, initState, totalTransitions):\n",
    "    count1 = 0\n",
    "    currState = initState\n",
    "    for loopA in range(totalTransitions):\n",
    "        currState = np.random.choice(np.arange(len(mat)),p=mat[currState,:])\n",
    "        if(currState == 1):\n",
    "            count1 += 1\n",
    "    return count1/totalTransitions"
   ]
  },
  {
   "cell_type": "code",
   "execution_count": 3,
   "metadata": {},
   "outputs": [
    {
     "name": "stdout",
     "output_type": "stream",
     "text": [
      "Average fraction of time spent on 1: 0.37394999999999995\n"
     ]
    }
   ],
   "source": [
    "import numpy as np\n",
    "\n",
    "repetitions = 1000\n",
    "totalTransitions = 1000\n",
    "\n",
    "mat = np.array([[0.1, 0.4, 0.5],\n",
    "                [0.2, 0.2, 0.6],\n",
    "                [0.1, 0.5, 0.4]])\n",
    "\n",
    "res = np.zeros(repetitions)\n",
    "for loopA in range(repetitions):\n",
    "    res[loopA] = simulate(mat, 0, totalTransitions)\n",
    "    \n",
    "print(f\"Average fraction of time spent on 1: {np.mean(res)}\")"
   ]
  },
  {
   "cell_type": "code",
   "execution_count": 5,
   "metadata": {},
   "outputs": [
    {
     "name": "stdout",
     "output_type": "stream",
     "text": [
      "Iteration:  0\n",
      "[[0.4165 0.1665 0.25   0.1665 0.    ]\n",
      " [0.1665 0.4165 0.25   0.1665 0.    ]\n",
      " [0.1665 0.1665 0.4995 0.     0.1665]\n",
      " [0.4165 0.1665 0.     0.4165 0.    ]\n",
      " [0.     0.25   0.5    0.     0.25  ]]\n",
      "Iteration:  1\n",
      "[[0.31216675 0.20804175 0.270625   0.16641675 0.041625  ]\n",
      " [0.24966675 0.27054175 0.270625   0.16641675 0.041625  ]\n",
      " [0.18023625 0.22186125 0.41600025 0.0554445  0.12479175]\n",
      " [0.37466675 0.20804175 0.14575    0.27054175 0.        ]\n",
      " [0.124875   0.249875   0.43725    0.041625   0.14575   ]]\n",
      "Iteration:  2\n",
      "[[0.26571437 0.22629158 0.29581727 0.1483314  0.06149229]\n",
      " [0.26180812 0.23019783 0.29581727 0.1483314  0.06149229]\n",
      " [0.22299005 0.23253084 0.34452007 0.11017519 0.08683911]\n",
      " [0.29653204 0.22285056 0.25775898 0.17824633 0.04244364]\n",
      " [0.21397164 0.23566868 0.35310886 0.10393593 0.09140722]]\n",
      "Iteration:  3\n",
      "[[0.25295602 0.22855493 0.30740606 0.13840244 0.06785964]\n",
      " [0.25294076 0.22857019 0.30740606 0.13840244 0.06785964]\n",
      " [0.24820625 0.22911827 0.31250733 0.13418964 0.07054279]\n",
      " [0.25655208 0.22806426 0.3033773  0.14162256 0.06576666]\n",
      " [0.24767396 0.2294831  0.31373158 0.13362631 0.07107977]]\n"
     ]
    }
   ],
   "source": [
    "mat = np.array([[0,.5,.5,0,0],\n",
    "               [.5,0,.5,0,0],\n",
    "               [.333,.333,0,.333,0],\n",
    "               [0,0,.5,0,.5],\n",
    "               [.5,0,0,.5,0]])\n",
    "mat2 = mat\n",
    "for loopA in range(4):\n",
    "    print('Iteration: P', loopA)\n",
    "    mat2 = mat2.dot(mat2)\n",
    "    print(mat2)"
   ]
  },
  {
   "cell_type": "code",
   "execution_count": null,
   "metadata": {},
   "outputs": [],
   "source": [
    "#the m.c. forgets where it starts from with large n"
   ]
  }
 ],
 "metadata": {
  "kernelspec": {
   "display_name": "Python 3 (ipykernel)",
   "language": "python",
   "name": "python3"
  },
  "language_info": {
   "codemirror_mode": {
    "name": "ipython",
    "version": 3
   },
   "file_extension": ".py",
   "mimetype": "text/x-python",
   "name": "python",
   "nbconvert_exporter": "python",
   "pygments_lexer": "ipython3",
   "version": "3.10.2"
  }
 },
 "nbformat": 4,
 "nbformat_minor": 2
}
