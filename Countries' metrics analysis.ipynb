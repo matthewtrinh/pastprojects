{
 "cells": [
  {
   "cell_type": "code",
   "execution_count": null,
   "metadata": {},
   "outputs": [],
   "source": [
    "#Matthew Trinh"
   ]
  },
  {
   "cell_type": "code",
   "execution_count": 2,
   "metadata": {},
   "outputs": [
    {
     "data": {
      "text/html": [
       "<div>\n",
       "<style scoped>\n",
       "    .dataframe tbody tr th:only-of-type {\n",
       "        vertical-align: middle;\n",
       "    }\n",
       "\n",
       "    .dataframe tbody tr th {\n",
       "        vertical-align: top;\n",
       "    }\n",
       "\n",
       "    .dataframe thead th {\n",
       "        text-align: right;\n",
       "    }\n",
       "</style>\n",
       "<table border=\"1\" class=\"dataframe\">\n",
       "  <thead>\n",
       "    <tr style=\"text-align: right;\">\n",
       "      <th></th>\n",
       "      <th>country</th>\n",
       "      <th>year</th>\n",
       "      <th>pop</th>\n",
       "      <th>continent</th>\n",
       "      <th>lifeExp</th>\n",
       "      <th>gdpPercap</th>\n",
       "    </tr>\n",
       "  </thead>\n",
       "  <tbody>\n",
       "    <tr>\n",
       "      <th>0</th>\n",
       "      <td>Afghanistan</td>\n",
       "      <td>1952</td>\n",
       "      <td>8425333.0</td>\n",
       "      <td>Asia</td>\n",
       "      <td>28.801</td>\n",
       "      <td>779.445314</td>\n",
       "    </tr>\n",
       "    <tr>\n",
       "      <th>1</th>\n",
       "      <td>Afghanistan</td>\n",
       "      <td>1957</td>\n",
       "      <td>9240934.0</td>\n",
       "      <td>Asia</td>\n",
       "      <td>30.332</td>\n",
       "      <td>820.853030</td>\n",
       "    </tr>\n",
       "    <tr>\n",
       "      <th>2</th>\n",
       "      <td>Afghanistan</td>\n",
       "      <td>1962</td>\n",
       "      <td>10267083.0</td>\n",
       "      <td>Asia</td>\n",
       "      <td>31.997</td>\n",
       "      <td>853.100710</td>\n",
       "    </tr>\n",
       "    <tr>\n",
       "      <th>3</th>\n",
       "      <td>Afghanistan</td>\n",
       "      <td>1967</td>\n",
       "      <td>11537966.0</td>\n",
       "      <td>Asia</td>\n",
       "      <td>34.020</td>\n",
       "      <td>836.197138</td>\n",
       "    </tr>\n",
       "    <tr>\n",
       "      <th>4</th>\n",
       "      <td>Afghanistan</td>\n",
       "      <td>1972</td>\n",
       "      <td>13079460.0</td>\n",
       "      <td>Asia</td>\n",
       "      <td>36.088</td>\n",
       "      <td>739.981106</td>\n",
       "    </tr>\n",
       "    <tr>\n",
       "      <th>...</th>\n",
       "      <td>...</td>\n",
       "      <td>...</td>\n",
       "      <td>...</td>\n",
       "      <td>...</td>\n",
       "      <td>...</td>\n",
       "      <td>...</td>\n",
       "    </tr>\n",
       "    <tr>\n",
       "      <th>1699</th>\n",
       "      <td>Zimbabwe</td>\n",
       "      <td>1987</td>\n",
       "      <td>9216418.0</td>\n",
       "      <td>Africa</td>\n",
       "      <td>62.351</td>\n",
       "      <td>706.157306</td>\n",
       "    </tr>\n",
       "    <tr>\n",
       "      <th>1700</th>\n",
       "      <td>Zimbabwe</td>\n",
       "      <td>1992</td>\n",
       "      <td>10704340.0</td>\n",
       "      <td>Africa</td>\n",
       "      <td>60.377</td>\n",
       "      <td>693.420786</td>\n",
       "    </tr>\n",
       "    <tr>\n",
       "      <th>1701</th>\n",
       "      <td>Zimbabwe</td>\n",
       "      <td>1997</td>\n",
       "      <td>11404948.0</td>\n",
       "      <td>Africa</td>\n",
       "      <td>46.809</td>\n",
       "      <td>792.449960</td>\n",
       "    </tr>\n",
       "    <tr>\n",
       "      <th>1702</th>\n",
       "      <td>Zimbabwe</td>\n",
       "      <td>2002</td>\n",
       "      <td>11926563.0</td>\n",
       "      <td>Africa</td>\n",
       "      <td>39.989</td>\n",
       "      <td>672.038623</td>\n",
       "    </tr>\n",
       "    <tr>\n",
       "      <th>1703</th>\n",
       "      <td>Zimbabwe</td>\n",
       "      <td>2007</td>\n",
       "      <td>12311143.0</td>\n",
       "      <td>Africa</td>\n",
       "      <td>43.487</td>\n",
       "      <td>469.709298</td>\n",
       "    </tr>\n",
       "  </tbody>\n",
       "</table>\n",
       "<p>1704 rows × 6 columns</p>\n",
       "</div>"
      ],
      "text/plain": [
       "          country  year         pop continent  lifeExp   gdpPercap\n",
       "0     Afghanistan  1952   8425333.0      Asia   28.801  779.445314\n",
       "1     Afghanistan  1957   9240934.0      Asia   30.332  820.853030\n",
       "2     Afghanistan  1962  10267083.0      Asia   31.997  853.100710\n",
       "3     Afghanistan  1967  11537966.0      Asia   34.020  836.197138\n",
       "4     Afghanistan  1972  13079460.0      Asia   36.088  739.981106\n",
       "...           ...   ...         ...       ...      ...         ...\n",
       "1699     Zimbabwe  1987   9216418.0    Africa   62.351  706.157306\n",
       "1700     Zimbabwe  1992  10704340.0    Africa   60.377  693.420786\n",
       "1701     Zimbabwe  1997  11404948.0    Africa   46.809  792.449960\n",
       "1702     Zimbabwe  2002  11926563.0    Africa   39.989  672.038623\n",
       "1703     Zimbabwe  2007  12311143.0    Africa   43.487  469.709298\n",
       "\n",
       "[1704 rows x 6 columns]"
      ]
     },
     "execution_count": 2,
     "metadata": {},
     "output_type": "execute_result"
    }
   ],
   "source": [
    "import numpy as np\n",
    "import pandas as pd\n",
    "import sqlite3\n",
    "data = pd.read_csv('http://bit.ly/2cLzoxH')\n",
    "\n",
    "db = sqlite3.connect(':memory:')\n",
    "data.to_sql('data', db)\n",
    "cursor = db.cursor()\n",
    "db.row_factory = sqlite3.Row\n",
    "fancyCursor = db.cursor()\n",
    "\n",
    "data"
   ]
  },
  {
   "cell_type": "code",
   "execution_count": 2,
   "metadata": {},
   "outputs": [
    {
     "data": {
      "text/plain": [
       "[(0, 'Afghanistan', 1952, 8425333.0, 'Asia', 28.801, 779.4453145),\n",
       " (1, 'Afghanistan', 1957, 9240934.0, 'Asia', 30.331999999999997, 820.8530296),\n",
       " (2, 'Afghanistan', 1962, 10267083.0, 'Asia', 31.997, 853.1007099999999),\n",
       " (3, 'Afghanistan', 1967, 11537966.0, 'Asia', 34.02, 836.1971382),\n",
       " (4, 'Afghanistan', 1972, 13079460.0, 'Asia', 36.088, 739.9811057999999)]"
      ]
     },
     "execution_count": 2,
     "metadata": {},
     "output_type": "execute_result"
    }
   ],
   "source": [
    "cursor.execute('''\n",
    "    SELECT *\n",
    "    FROM data\n",
    "    LIMIT 5\n",
    "''')\n",
    "\n",
    "cursor.fetchall()"
   ]
  },
  {
   "cell_type": "code",
   "execution_count": 3,
   "metadata": {
    "collapsed": true
   },
   "outputs": [
    {
     "data": {
      "text/plain": [
       "[{'index': 0,\n",
       "  'country': 'Afghanistan',\n",
       "  'year': 1952,\n",
       "  'pop': 8425333.0,\n",
       "  'continent': 'Asia',\n",
       "  'lifeExp': 28.801,\n",
       "  'gdpPercap': 779.4453145},\n",
       " {'index': 1,\n",
       "  'country': 'Afghanistan',\n",
       "  'year': 1957,\n",
       "  'pop': 9240934.0,\n",
       "  'continent': 'Asia',\n",
       "  'lifeExp': 30.331999999999997,\n",
       "  'gdpPercap': 820.8530296},\n",
       " {'index': 2,\n",
       "  'country': 'Afghanistan',\n",
       "  'year': 1962,\n",
       "  'pop': 10267083.0,\n",
       "  'continent': 'Asia',\n",
       "  'lifeExp': 31.997,\n",
       "  'gdpPercap': 853.1007099999999},\n",
       " {'index': 3,\n",
       "  'country': 'Afghanistan',\n",
       "  'year': 1967,\n",
       "  'pop': 11537966.0,\n",
       "  'continent': 'Asia',\n",
       "  'lifeExp': 34.02,\n",
       "  'gdpPercap': 836.1971382},\n",
       " {'index': 4,\n",
       "  'country': 'Afghanistan',\n",
       "  'year': 1972,\n",
       "  'pop': 13079460.0,\n",
       "  'continent': 'Asia',\n",
       "  'lifeExp': 36.088,\n",
       "  'gdpPercap': 739.9811057999999}]"
      ]
     },
     "execution_count": 3,
     "metadata": {},
     "output_type": "execute_result"
    }
   ],
   "source": [
    "fancyCursor.execute('''\n",
    "    SELECT *\n",
    "    FROM data\n",
    "    LIMIT 5\n",
    "''')\n",
    "\n",
    "[dict(row) for row in fancyCursor.fetchall()]"
   ]
  },
  {
   "cell_type": "markdown",
   "metadata": {},
   "source": [
    "## The Biggest Countries"
   ]
  },
  {
   "cell_type": "code",
   "execution_count": 4,
   "metadata": {},
   "outputs": [
    {
     "name": "stdout",
     "output_type": "stream",
     "text": [
      "            country continent           pop\n",
      "299           China      Asia  1.318683e+09\n",
      "1619  United States  Americas  3.011399e+08\n",
      "1139        Nigeria    Africa  1.350312e+08\n",
      "575         Germany    Europe  8.240100e+07\n",
      "71        Australia   Oceania  2.043418e+07\n",
      "In Asia, China has a population of 1,318,683,096.\n",
      "In Americas, United States has a population of 301,139,947.\n",
      "In Africa, Nigeria has a population of 135,031,164.\n",
      "In Europe, Germany has a population of 82,400,996.\n",
      "In Oceania, Australia has a population of 20,434,176.\n"
     ]
    }
   ],
   "source": [
    "# Filters for year 2007, and only pull the 3 columns of interest.\n",
    "populations = data[data[\"year\"] == 2007][[\"country\", \"continent\", \"pop\"]]\n",
    "\n",
    "# Sorts by population descending, then groups by continent and gets the first row from each grouping.\n",
    "groupings = populations.sort_values('pop', ascending = False).groupby('continent').head(1)\n",
    "print(groupings)\n",
    "\n",
    "records = [(row[\"continent\"], row[\"country\"], row[\"pop\"]) for (id, row) in groupings.iterrows()]\n",
    "\n",
    "for (continent, country, population) in records:\n",
    "    print(f\"In {continent}, {country} has a population of {population:,.0f}.\")"
   ]
  },
  {
   "cell_type": "code",
   "execution_count": 5,
   "metadata": {},
   "outputs": [
    {
     "name": "stdout",
     "output_type": "stream",
     "text": [
      "In Asia, China has a population of 1,318,683,096.\n",
      "In Americas, United States has a population of 301,139,947.\n",
      "In Africa, Nigeria has a population of 135,031,164.\n",
      "In Europe, Germany has a population of 82,400,996.\n",
      "In Oceania, Australia has a population of 20,434,176.\n"
     ]
    }
   ],
   "source": [
    "fancyCursor.execute('''\n",
    "    SELECT d.continent, d.country, d.pop\n",
    "    FROM data d\n",
    "    INNER JOIN (\n",
    "      SELECT continent, MAX(pop) AS maxPop\n",
    "      FROM data\n",
    "      WHERE year = 2007\n",
    "      GROUP BY continent\n",
    "    ) m\n",
    "      ON d.continent = m.continent AND d.pop = m.maxPop\n",
    "    ORDER BY pop DESC\n",
    "''')\n",
    "\n",
    "records = [(row[\"continent\"], row[\"country\"], row[\"pop\"]) for row in fancyCursor.fetchall()]\n",
    "\n",
    "\n",
    "for (continent, country, population) in records:\n",
    "    print(f\"In {continent}, {country} has a population of {population:,.0f}.\")"
   ]
  },
  {
   "cell_type": "markdown",
   "metadata": {},
   "source": [
    "## Living conditions\n",
    "\n",
    "Which countries have had a decrease in their life expectancy when comparing 1952 against 2007?"
   ]
  },
  {
   "cell_type": "code",
   "execution_count": 227,
   "metadata": {},
   "outputs": [
    {
     "name": "stdout",
     "output_type": "stream",
     "text": [
      "Swaziland\n",
      "The countries whose life expectancy has decreased since 1952 are: ['Swaziland', 'Zimbabwe'].\n"
     ]
    }
   ],
   "source": [
    "records1952 = data[data[\"year\"] == 1952][[\"country\",\"lifeExp\"]].reset_index()\n",
    "records2007 = data[data[\"year\"] == 2007][[\"country\", \"lifeExp\"]].reset_index()\n",
    "filt = records1952[\"lifeExp\"] - records2007[\"lifeExp\"] > 0\n",
    "records = records1952[filt][\"country\"].to_string(index=False).strip().split()\n",
    "\n",
    "print(f\"The countries whose life expectancy has decreased since 1952 are: {records}.\")"
   ]
  },
  {
   "cell_type": "code",
   "execution_count": 235,
   "metadata": {},
   "outputs": [
    {
     "name": "stdout",
     "output_type": "stream",
     "text": [
      "The countries whose life expectancy has decreased since 1952 are: ['Swaziland', 'Zimbabwe'].\n"
     ]
    }
   ],
   "source": [
    "fancyCursor.execute('''\n",
    "    SELECT a.country\n",
    "    FROM \n",
    "    (SELECT lifeExp as \"lifeExpA\", country\n",
    "    FROM data \n",
    "    WHERE year = \"1952\") a\n",
    "    INNER JOIN\n",
    "    (SELECT lifeEXP as \"lifeExpB\", country\n",
    "    FROM data\n",
    "    WHERE year = \"2007\") b\n",
    "    ON a.country = b.country\n",
    "    WHERE lifeExpA > lifeExpB\n",
    "''')\n",
    "\n",
    "records = [(row[\"country\"]) for row in fancyCursor.fetchall()]\n",
    "\n",
    "print(f\"The countries whose life expectancy has decreased since 1952 are: {records}.\")"
   ]
  },
  {
   "cell_type": "markdown",
   "metadata": {},
   "source": [
    "## Where are they now?\n",
    "\n",
    "As of the new millenium (or, 2002, the closest year in the dataset), how many countries did each continent comprise?"
   ]
  },
  {
   "cell_type": "code",
   "execution_count": 90,
   "metadata": {},
   "outputs": [
    {
     "name": "stdout",
     "output_type": "stream",
     "text": [
      "Africa has 52 countries.\n",
      "Americas has 25 countries.\n",
      "Asia has 33 countries.\n",
      "Europe has 30 countries.\n",
      "Oceania has 2 countries.\n"
     ]
    }
   ],
   "source": [
    "populations = data[data[\"year\"] == 2002][[\"country\", \"continent\"]].groupby('continent')\n",
    "records = [(cont, len(count)) for (cont, count) in populations.groups.items()]\n",
    "\n",
    "for (continent, count) in records:\n",
    "    print(f\"{continent} has {count} countries.\")"
   ]
  },
  {
   "cell_type": "code",
   "execution_count": 234,
   "metadata": {},
   "outputs": [
    {
     "name": "stdout",
     "output_type": "stream",
     "text": [
      "Africa has 52 countries.\n",
      "Americas has 25 countries.\n",
      "Asia has 33 countries.\n",
      "Europe has 30 countries.\n",
      "Oceania has 2 countries.\n"
     ]
    }
   ],
   "source": [
    "fancyCursor.execute('''\n",
    "    SELECT continent, count(country) as \"count\"\n",
    "    FROM data\n",
    "    WHERE year = 2002\n",
    "    GROUP BY continent\n",
    "''')\n",
    "\n",
    "\n",
    "records = [(row[\"continent\"], row[\"count\"]) for row in fancyCursor.fetchall()]\n",
    "\n",
    "for (continent, count) in records:\n",
    "    print(f\"{continent} has {count} countries.\")"
   ]
  },
  {
   "cell_type": "markdown",
   "metadata": {},
   "source": [
    "## Best GDP year of the lowest GDP Country\n",
    "\n",
    "Find the country with the lowest GDP in the dataset, and then report what their highest GDP has ever been, and what year that was."
   ]
  },
  {
   "cell_type": "code",
   "execution_count": 141,
   "metadata": {},
   "outputs": [
    {
     "name": "stdout",
     "output_type": "stream",
     "text": [
      "Congo Dem. Rep.'s highest GDP Per Capita was 905.86 in 1957.\n"
     ]
    }
   ],
   "source": [
    "lowestgdp = data.sort_values('gdpPercap', ascending = True).head(1)\n",
    "nat = lowestgdp['country'].to_string(index=False).strip()\n",
    "gdplist = data[data['country'] == nat]\n",
    "srt = gdplist.sort_values('gdpPercap', ascending=False).head(1)[['country','gdpPercap','year']]\n",
    "\n",
    "record = srt.to_dict('r')[0]\n",
    "\n",
    "print(f\"{record['country']}'s highest GDP Per Capita was {record['gdpPercap']:,.2f} in {record['year']}.\")"
   ]
  },
  {
   "cell_type": "code",
   "execution_count": 233,
   "metadata": {},
   "outputs": [
    {
     "name": "stdout",
     "output_type": "stream",
     "text": [
      "Congo Dem. Rep.'s highest GDP Per Capita was 905.86 in 1957.\n"
     ]
    }
   ],
   "source": [
    "fancyCursor.execute('''\n",
    "    SELECT country, gdpPercap, year\n",
    "    FROM data\n",
    "    WHERE country = \n",
    "        (SELECT country\n",
    "        FROM data\n",
    "        ORDER BY gdpPercap ASC\n",
    "        LIMIT 1)\n",
    "    ORDER BY gdpPercap DESC\n",
    "    LIMIT 1\n",
    "''')\n",
    "\n",
    "record = {}\n",
    "\n",
    "for row in fancyCursor.fetchall():\n",
    "    record['country'] = row[\"country\"]\n",
    "    record['gdpPercap'] = row[\"gdpPercap\"]\n",
    "    record['year'] = row['year']\n",
    "\n",
    "print(f\"{record['country']}'s highest GDP Per Capita was {record['gdpPercap']:,.2f} in {record['year']}.\")"
   ]
  },
  {
   "cell_type": "markdown",
   "metadata": {},
   "source": [
    "## Average Live Expectancy\n",
    "\n",
    "What is the average life expectancy per continent across all years in the dataset?  Order the results by average life expectancy, descending."
   ]
  },
  {
   "cell_type": "code",
   "execution_count": 217,
   "metadata": {},
   "outputs": [
    {
     "name": "stdout",
     "output_type": "stream",
     "text": [
      "Oceania has an average life expectancy of 74.33.\n",
      "Europe has an average life expectancy of 71.90.\n",
      "Americas has an average life expectancy of 64.66.\n",
      "Asia has an average life expectancy of 60.06.\n",
      "Africa has an average life expectancy of 48.87.\n"
     ]
    }
   ],
   "source": [
    "srt = data[['continent','lifeExp']].groupby('continent').mean().sort_values('lifeExp',ascending=False)\n",
    "records = list(zip(srt.index,srt['lifeExp']))\n",
    "\n",
    "for (continent, avgLifeExp) in records:\n",
    "    print(f\"{continent} has an average life expectancy of {avgLifeExp:,.2f}.\")"
   ]
  },
  {
   "cell_type": "code",
   "execution_count": 232,
   "metadata": {},
   "outputs": [
    {
     "name": "stdout",
     "output_type": "stream",
     "text": [
      "Oceania has an average life expectancy of 74.33.\n",
      "Europe has an average life expectancy of 71.90.\n",
      "Americas has an average life expectancy of 64.66.\n",
      "Asia has an average life expectancy of 60.06.\n",
      "Africa has an average life expectancy of 48.87.\n"
     ]
    }
   ],
   "source": [
    "fancyCursor.execute('''\n",
    "    SELECT continent, avg(lifeExp) as \"avgLifeExp\"\n",
    "    FROM data\n",
    "    GROUP BY continent\n",
    "    ORDER BY avgLifeExp DESC\n",
    "''')\n",
    "\n",
    "records = [(row[\"continent\"], row[\"avgLifeExp\"]) for row in fancyCursor.fetchall()]\n",
    "\n",
    "for (continent, avgLifeExp) in records:\n",
    "    print(f\"{continent} has an average life expectancy of {avgLifeExp:,.2f}.\")"
   ]
  },
  {
   "cell_type": "markdown",
   "metadata": {},
   "source": [
    "## Staying Alive\n",
    "\n",
    "Which Country has had the largest percentage increase of life expectancy (`lifeExp`) from 1952 to 2007?"
   ]
  },
  {
   "cell_type": "code",
   "execution_count": 214,
   "metadata": {},
   "outputs": [
    {
     "name": "stdout",
     "output_type": "stream",
     "text": [
      "Oman had the largest percent increase in life expectancy, 101.3%\n"
     ]
    }
   ],
   "source": [
    "records1952 = data[data[\"year\"] == 1952][[\"country\",\"lifeExp\"]].reset_index()\n",
    "records2007 = data[data[\"year\"] == 2007][[\"country\", \"lifeExp\"]].reset_index()\n",
    "percentincr = (records2007['lifeExp'] - records1952['lifeExp'])/records1952['lifeExp'] * 100\n",
    "ind = percentincr.sort_values(ascending=False).index.values[0]\n",
    "\n",
    "country = records1952.loc[ind]['country']\n",
    "percent = percentincr[ind]\n",
    "\n",
    "print(f\"{country} had the largest percent increase in life expectancy, {percent:.1f}%\")"
   ]
  },
  {
   "cell_type": "code",
   "execution_count": 231,
   "metadata": {},
   "outputs": [
    {
     "name": "stdout",
     "output_type": "stream",
     "text": [
      "Oman had the largest percent increase in life expectancy, 101.3%\n"
     ]
    }
   ],
   "source": [
    "fancyCursor.execute('''\n",
    "    SELECT d.country, ((b.lifeExp - a.lifeExp)/(a.lifeExp)) * 100 AS \"Percent\"\n",
    "    FROM data d\n",
    "    INNER JOIN (\n",
    "        SELECT country, lifeExp\n",
    "        FROM data\n",
    "        WHERE year = 1952) a\n",
    "        ON d.country = a.country\n",
    "    INNER JOIN (\n",
    "        SELECT country, lifeExp\n",
    "        FROM data\n",
    "        WHERE year = 2007) b\n",
    "        ON d.country = b.country\n",
    "    GROUP BY d.country\n",
    "    ORDER BY Percent DESC\n",
    "    LIMIT 1\n",
    "''')\n",
    "\n",
    "country = ''\n",
    "percent = 0.\n",
    "\n",
    "result = {}\n",
    "\n",
    "for row in fancyCursor.fetchall():\n",
    "    country = row[\"country\"]\n",
    "    percent = row[\"Percent\"]\n",
    "    result['country'] = row[\"country\"]\n",
    "    result['percent'] = row[\"Percent\"]\n",
    "\n",
    "print(f\"{result['country']} had the largest percent increase in life expectancy, {result['percent']:.1f}%\")"
   ]
  },
  {
   "cell_type": "code",
   "execution_count": null,
   "metadata": {},
   "outputs": [],
   "source": []
  }
 ],
 "metadata": {
  "kernelspec": {
   "display_name": "Python 3 (ipykernel)",
   "language": "python",
   "name": "python3"
  },
  "language_info": {
   "codemirror_mode": {
    "name": "ipython",
    "version": 3
   },
   "file_extension": ".py",
   "mimetype": "text/x-python",
   "name": "python",
   "nbconvert_exporter": "python",
   "pygments_lexer": "ipython3",
   "version": "3.10.2"
  }
 },
 "nbformat": 4,
 "nbformat_minor": 4
}
